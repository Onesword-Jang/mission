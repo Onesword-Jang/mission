{
 "cells": [
  {
   "cell_type": "code",
   "execution_count": 1,
   "id": "a412fdbd",
   "metadata": {},
   "outputs": [
    {
     "name": "stdout",
     "output_type": "stream",
     "text": [
      "OpenAI API key 입력: ········\n"
     ]
    }
   ],
   "source": [
    "import os\n",
    "from getpass import getpass\n",
    "\n",
    "# OpenAI API Key 설정\n",
    "os.environ[\"OPENAI_API_KEY\"] = getpass(\"OpenAI API key 입력: \")\n",
    "\n",
    "from openai import OpenAI\n",
    "client = OpenAI()"
   ]
  },
  {
   "cell_type": "code",
   "execution_count": 4,
   "id": "1aea274b",
   "metadata": {},
   "outputs": [],
   "source": [
    "# 결과 파일 경로 설정\n",
    "result_folder = \"./\"  # 동일 폴더에 있는 경우\n",
    "result_files = [\"result1.txt\", \"result2.txt\", \"result3.txt\"]"
   ]
  },
  {
   "cell_type": "code",
   "execution_count": 5,
   "id": "07225572",
   "metadata": {},
   "outputs": [
    {
     "ename": "FileNotFoundError",
     "evalue": "[Errno 2] No such file or directory: './result1.txt'",
     "output_type": "error",
     "traceback": [
      "\u001b[1;31m---------------------------------------------------------------------------\u001b[0m",
      "\u001b[1;31mFileNotFoundError\u001b[0m                         Traceback (most recent call last)",
      "Cell \u001b[1;32mIn[5], line 5\u001b[0m\n\u001b[0;32m      3\u001b[0m \u001b[38;5;28;01mfor\u001b[39;00m file_name \u001b[38;5;129;01min\u001b[39;00m result_files:\n\u001b[0;32m      4\u001b[0m     file_path \u001b[38;5;241m=\u001b[39m os\u001b[38;5;241m.\u001b[39mpath\u001b[38;5;241m.\u001b[39mjoin(result_folder, file_name)\n\u001b[1;32m----> 5\u001b[0m     \u001b[38;5;28;01mwith\u001b[39;00m \u001b[38;5;28;43mopen\u001b[39;49m\u001b[43m(\u001b[49m\u001b[43mfile_path\u001b[49m\u001b[43m,\u001b[49m\u001b[43m \u001b[49m\u001b[38;5;124;43m\"\u001b[39;49m\u001b[38;5;124;43mr\u001b[39;49m\u001b[38;5;124;43m\"\u001b[39;49m\u001b[43m,\u001b[49m\u001b[43m \u001b[49m\u001b[43mencoding\u001b[49m\u001b[38;5;241;43m=\u001b[39;49m\u001b[38;5;124;43m\"\u001b[39;49m\u001b[38;5;124;43mutf-8\u001b[39;49m\u001b[38;5;124;43m\"\u001b[39;49m\u001b[43m)\u001b[49m \u001b[38;5;28;01mas\u001b[39;00m file:\n\u001b[0;32m      6\u001b[0m         results[file_name] \u001b[38;5;241m=\u001b[39m file\u001b[38;5;241m.\u001b[39mread()\u001b[38;5;241m.\u001b[39mstrip()\n",
      "File \u001b[1;32m~\\AppData\\Local\\Programs\\Python\\Python312\\Lib\\site-packages\\IPython\\core\\interactiveshell.py:324\u001b[0m, in \u001b[0;36m_modified_open\u001b[1;34m(file, *args, **kwargs)\u001b[0m\n\u001b[0;32m    317\u001b[0m \u001b[38;5;28;01mif\u001b[39;00m file \u001b[38;5;129;01min\u001b[39;00m {\u001b[38;5;241m0\u001b[39m, \u001b[38;5;241m1\u001b[39m, \u001b[38;5;241m2\u001b[39m}:\n\u001b[0;32m    318\u001b[0m     \u001b[38;5;28;01mraise\u001b[39;00m \u001b[38;5;167;01mValueError\u001b[39;00m(\n\u001b[0;32m    319\u001b[0m         \u001b[38;5;124mf\u001b[39m\u001b[38;5;124m\"\u001b[39m\u001b[38;5;124mIPython won\u001b[39m\u001b[38;5;124m'\u001b[39m\u001b[38;5;124mt let you open fd=\u001b[39m\u001b[38;5;132;01m{\u001b[39;00mfile\u001b[38;5;132;01m}\u001b[39;00m\u001b[38;5;124m by default \u001b[39m\u001b[38;5;124m\"\u001b[39m\n\u001b[0;32m    320\u001b[0m         \u001b[38;5;124m\"\u001b[39m\u001b[38;5;124mas it is likely to crash IPython. If you know what you are doing, \u001b[39m\u001b[38;5;124m\"\u001b[39m\n\u001b[0;32m    321\u001b[0m         \u001b[38;5;124m\"\u001b[39m\u001b[38;5;124myou can use builtins\u001b[39m\u001b[38;5;124m'\u001b[39m\u001b[38;5;124m open.\u001b[39m\u001b[38;5;124m\"\u001b[39m\n\u001b[0;32m    322\u001b[0m     )\n\u001b[1;32m--> 324\u001b[0m \u001b[38;5;28;01mreturn\u001b[39;00m \u001b[43mio_open\u001b[49m\u001b[43m(\u001b[49m\u001b[43mfile\u001b[49m\u001b[43m,\u001b[49m\u001b[43m \u001b[49m\u001b[38;5;241;43m*\u001b[39;49m\u001b[43margs\u001b[49m\u001b[43m,\u001b[49m\u001b[43m \u001b[49m\u001b[38;5;241;43m*\u001b[39;49m\u001b[38;5;241;43m*\u001b[39;49m\u001b[43mkwargs\u001b[49m\u001b[43m)\u001b[49m\n",
      "\u001b[1;31mFileNotFoundError\u001b[0m: [Errno 2] No such file or directory: './result1.txt'"
     ]
    }
   ],
   "source": [
    "# 결과 파일 내용 읽기\n",
    "results = {}\n",
    "for file_name in result_files:\n",
    "    file_path = os.path.join(result_folder, file_name)\n",
    "    with open(file_path, \"r\", encoding=\"utf-8\") as file:\n",
    "        results[file_name] = file.read().strip()"
   ]
  },
  {
   "cell_type": "code",
   "execution_count": null,
   "id": "bf4e4eb7",
   "metadata": {},
   "outputs": [],
   "source": [
    "# Evaluation prompt\n",
    "Prompt = f“””[System]\n",
    "Be an impartial judge and rate the quality of the answers provided by the two people.\n",
    "Rate the quality of the answers provided by the AI assistants. You should choose an assistant that\n",
    "Choose the assistant that follows your instructions better and answers your questions better. Rating\n",
    "is the usefulness, relevance, accuracy, depth, and creativity of the answer,\n",
    "level of detail in the answer. Start your evaluation by comparing three answers.\n",
    "Compare the responses and provide a brief explanation. Avoid any position bias, and make sure to note the following\n",
    "Don't let the order in which the answers are presented influence your decision. Do not allow\n",
    "Don't let the length of the responses influence your evaluation. Don't favor a particular name.\n",
    "Don't favor teaching assistants. Be as objective as possible. After you provide your comments, strictly adhere to the following format\n",
    "Output your final rating: “[[A]]” if assistant A is better, ‘[[B]]’ if assistant B is better.\n",
    "“[[B]” if assistant B is better, ‘[[C]]’ if assistant C is better, ‘[[D]]’ if there is a tie, etc.\n",
    "\n",
    "[User Question]\n",
    "{Question}\n",
    "\n",
    "[start of assistant A's answer] {answer_a}\n",
    "{answer_a}\n",
    "[end of assistant A's answer] {end_answer_a}\n",
    "\n",
    "[Assistant B's answer begins] {answer_b}\n",
    "{answer_b}\n",
    "[end of assistant B's answer]\n",
    "\n",
    "[Assistant C's answer begins] {answer_c}\n",
    "{answer_c}\n",
    "[end of assistant C's answer]“””\n",
    "\n",
    "print(prompt)"
   ]
  },
  {
   "cell_type": "code",
   "execution_count": null,
   "id": "fd74b77e",
   "metadata": {},
   "outputs": [],
   "source": [
    "# openapi 호출\n",
    "completion= client.chat.completions.create(\n",
    "    model = 'gpt-4o',\n",
    "    messages=[{'role':'user','content':prompt}],\n",
    "    temperature = 0.0\n",
    ")\n",
    "\n",
    "# 응답 출력\n",
    "print(\"Evaluation Result:\")\n",
    "print(completion['choices'][0]['message']['content'])"
   ]
  }
 ],
 "metadata": {
  "kernelspec": {
   "display_name": "LLM",
   "language": "python",
   "name": "llm"
  },
  "language_info": {
   "codemirror_mode": {
    "name": "ipython",
    "version": 3
   },
   "file_extension": ".py",
   "mimetype": "text/x-python",
   "name": "python",
   "nbconvert_exporter": "python",
   "pygments_lexer": "ipython3",
   "version": "3.12.6"
  }
 },
 "nbformat": 4,
 "nbformat_minor": 5
}
